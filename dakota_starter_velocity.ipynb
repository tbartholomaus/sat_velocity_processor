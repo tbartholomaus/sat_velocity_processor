{
 "cells": [
  {
   "cell_type": "code",
   "execution_count": 1,
   "id": "loose-parliament",
   "metadata": {},
   "outputs": [],
   "source": [
    "import rasterio as rio\n",
    "import pandas as pd\n",
    "\n",
    "from pathlib import Path\n",
    "from dateutil import parser"
   ]
  },
  {
   "cell_type": "code",
   "execution_count": 2,
   "id": "humanitarian-solomon",
   "metadata": {},
   "outputs": [],
   "source": [
    "x_velpaths = list(Path('../Velocities/Vels_Tim').glob('*vx_v*')) # Enter your path to the Vels_Tim folder\n",
    "x_err_velpaths = list(Path('../Velocities/Vels_Tim').glob('*ex_v*'))\n",
    "\n",
    "vel_startdates = [parser.parse(str(x_velpaths[i])[35:42]) for i in range(len(x_velpaths))] \n",
    "vel_enddates = [parser.parse(str(x_velpaths[i])[43:50]) for i in range(len(x_velpaths))]\n",
    "\n",
    "vel_middates = [vel_startdates[i] + (vel_enddates[i] - vel_startdates[i]) / 2 for i in range(len(x_velpaths))] # When I do the daily vel interpolations, I use the mid-date\n",
    "                                                                                                               # of the velmap as the sampled velocity date\n",
    "    \n",
    "x_vels = [rio.open(x_velpaths[i]).read(1) for i in range(len(x_velpaths))] # Numpy arrays for all velocity maps\n",
    "x_err_vels = [rio.open(x_err_velpaths[i]).read(1) for i in range(len(x_velpaths))]"
   ]
  },
  {
   "cell_type": "code",
   "execution_count": 3,
   "id": "charged-bearing",
   "metadata": {},
   "outputs": [
    {
     "data": {
      "text/html": [
       "<div>\n",
       "<style scoped>\n",
       "    .dataframe tbody tr th:only-of-type {\n",
       "        vertical-align: middle;\n",
       "    }\n",
       "\n",
       "    .dataframe tbody tr th {\n",
       "        vertical-align: top;\n",
       "    }\n",
       "\n",
       "    .dataframe thead th {\n",
       "        text-align: right;\n",
       "    }\n",
       "</style>\n",
       "<table border=\"1\" class=\"dataframe\">\n",
       "  <thead>\n",
       "    <tr style=\"text-align: right;\">\n",
       "      <th></th>\n",
       "      <th>Start Date</th>\n",
       "      <th>End Date</th>\n",
       "      <th>Mid Date</th>\n",
       "      <th>x array</th>\n",
       "      <th>x_err array</th>\n",
       "    </tr>\n",
       "  </thead>\n",
       "  <tbody>\n",
       "    <tr>\n",
       "      <th>0</th>\n",
       "      <td>2019-06-06</td>\n",
       "      <td>2019-06-17</td>\n",
       "      <td>2019-06-11 12:00:00</td>\n",
       "      <td>[[-2000000000.0, -2000000000.0, -2000000000.0,...</td>\n",
       "      <td>[[-1.0, -1.0, -1.0, -1.0, -1.0, -1.0, -1.0, -1...</td>\n",
       "    </tr>\n",
       "    <tr>\n",
       "      <th>1</th>\n",
       "      <td>2019-06-17</td>\n",
       "      <td>2019-06-28</td>\n",
       "      <td>2019-06-22 12:00:00</td>\n",
       "      <td>[[-2000000000.0, -2000000000.0, -2000000000.0,...</td>\n",
       "      <td>[[-1.0, -1.0, -1.0, -1.0, -1.0, -1.0, -1.0, -1...</td>\n",
       "    </tr>\n",
       "    <tr>\n",
       "      <th>2</th>\n",
       "      <td>2019-06-28</td>\n",
       "      <td>2019-07-09</td>\n",
       "      <td>2019-07-03 12:00:00</td>\n",
       "      <td>[[-2000000000.0, -2000000000.0, -2000000000.0,...</td>\n",
       "      <td>[[-1.0, -1.0, -1.0, -1.0, -1.0, -1.0, -1.0, -1...</td>\n",
       "    </tr>\n",
       "    <tr>\n",
       "      <th>3</th>\n",
       "      <td>2019-07-09</td>\n",
       "      <td>2019-07-31</td>\n",
       "      <td>2019-07-20 00:00:00</td>\n",
       "      <td>[[-2000000000.0, -2000000000.0, -2000000000.0,...</td>\n",
       "      <td>[[-1.0, -1.0, -1.0, -1.0, -1.0, -1.0, -1.0, -1...</td>\n",
       "    </tr>\n",
       "    <tr>\n",
       "      <th>4</th>\n",
       "      <td>2019-07-31</td>\n",
       "      <td>2019-08-11</td>\n",
       "      <td>2019-08-05 12:00:00</td>\n",
       "      <td>[[-2000000000.0, -2000000000.0, -2000000000.0,...</td>\n",
       "      <td>[[-1.0, -1.0, -1.0, -1.0, -1.0, -1.0, -1.0, -1...</td>\n",
       "    </tr>\n",
       "  </tbody>\n",
       "</table>\n",
       "</div>"
      ],
      "text/plain": [
       "  Start Date   End Date            Mid Date  \\\n",
       "0 2019-06-06 2019-06-17 2019-06-11 12:00:00   \n",
       "1 2019-06-17 2019-06-28 2019-06-22 12:00:00   \n",
       "2 2019-06-28 2019-07-09 2019-07-03 12:00:00   \n",
       "3 2019-07-09 2019-07-31 2019-07-20 00:00:00   \n",
       "4 2019-07-31 2019-08-11 2019-08-05 12:00:00   \n",
       "\n",
       "                                             x array  \\\n",
       "0  [[-2000000000.0, -2000000000.0, -2000000000.0,...   \n",
       "1  [[-2000000000.0, -2000000000.0, -2000000000.0,...   \n",
       "2  [[-2000000000.0, -2000000000.0, -2000000000.0,...   \n",
       "3  [[-2000000000.0, -2000000000.0, -2000000000.0,...   \n",
       "4  [[-2000000000.0, -2000000000.0, -2000000000.0,...   \n",
       "\n",
       "                                         x_err array  \n",
       "0  [[-1.0, -1.0, -1.0, -1.0, -1.0, -1.0, -1.0, -1...  \n",
       "1  [[-1.0, -1.0, -1.0, -1.0, -1.0, -1.0, -1.0, -1...  \n",
       "2  [[-1.0, -1.0, -1.0, -1.0, -1.0, -1.0, -1.0, -1...  \n",
       "3  [[-1.0, -1.0, -1.0, -1.0, -1.0, -1.0, -1.0, -1...  \n",
       "4  [[-1.0, -1.0, -1.0, -1.0, -1.0, -1.0, -1.0, -1...  "
      ]
     },
     "execution_count": 3,
     "metadata": {},
     "output_type": "execute_result"
    }
   ],
   "source": [
    "# Don't know if a Dataframe is necessary, but I put the dates and arrays in here, then sorted by date\n",
    "# Calling the entire dataframe is fairly slow, probably because all the large arrays\n",
    "vel_df = pd.DataFrame({'Start Date' : vel_startdates, 'End Date' : vel_enddates, 'Mid Date' : vel_middates, 'x array' : x_vels, 'x_err array' : x_err_vels})\n",
    "\n",
    "vel_df.sort_values('Start Date', inplace = True)\n",
    "vel_df.reset_index(drop = True, inplace = True)\n",
    "\n",
    "vel_df.head()"
   ]
  },
  {
   "cell_type": "code",
   "execution_count": null,
   "id": "streaming-excellence",
   "metadata": {},
   "outputs": [],
   "source": []
  }
 ],
 "metadata": {
  "kernelspec": {
   "display_name": "Python [conda env:myenv] *",
   "language": "python",
   "name": "conda-env-myenv-py"
  },
  "language_info": {
   "codemirror_mode": {
    "name": "ipython",
    "version": 3
   },
   "file_extension": ".py",
   "mimetype": "text/x-python",
   "name": "python",
   "nbconvert_exporter": "python",
   "pygments_lexer": "ipython3",
   "version": "3.7.10"
  }
 },
 "nbformat": 4,
 "nbformat_minor": 5
}
